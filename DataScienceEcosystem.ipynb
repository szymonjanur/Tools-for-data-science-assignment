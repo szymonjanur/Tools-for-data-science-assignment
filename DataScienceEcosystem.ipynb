{
 "cells": [
  {
   "cell_type": "markdown",
   "id": "ced5c072-0c6f-45d8-b659-5b408c220f71",
   "metadata": {},
   "source": [
    "# Data Science Tools and Ecosystem"
   ]
  },
  {
   "cell_type": "markdown",
   "id": "ba528f77-18f8-4107-8f0f-c2523ec8cf83",
   "metadata": {},
   "source": [
    "## In this notebook, Data Science Tools and Ecosystem are summarized.\n"
   ]
  },
  {
   "cell_type": "markdown",
   "id": "e39ea7f7-bfaa-42df-8a3b-16808ef34906",
   "metadata": {},
   "source": [
    "### Objectives: <br> List popular languages  for data science <br> List popular Libraries for data science <br> Table with open source tools <br> Examples of arithmetic expressions in Python"
   ]
  },
  {
   "cell_type": "markdown",
   "id": "251bc65b-b359-43e6-a9c8-539d740204a7",
   "metadata": {
    "tags": []
   },
   "source": [
    "### Some of the popular languages that Data Scientists use are: <br> 1. Python <br> 2. SQL <br> 3. R\n",
    "\n"
   ]
  },
  {
   "cell_type": "markdown",
   "id": "df4b79af-3033-4566-938d-3af894ff9865",
   "metadata": {},
   "source": [
    "### Some of the commonly used libraries used by Data Scientists include: <br> 1. Pandas <br> 2. Numpy <br> 3. Tensorflow <br> 4. ggplot <br> 5. Lattice \n"
   ]
  },
  {
   "cell_type": "markdown",
   "id": "73c361f0-edba-4879-a301-12e3bc009290",
   "metadata": {},
   "source": [
    "|Data Science Tools|\n",
    "|------------------|\n",
    "|MySQL|\n",
    "|Apache AirFlow|\n",
    "| Kibana|"
   ]
  },
  {
   "cell_type": "markdown",
   "id": "b64c5ecd-688f-40cc-96bd-10c08077c53a",
   "metadata": {},
   "source": [
    "### Below are a few examples of evaluating arithmetic expressions in Python\n"
   ]
  },
  {
   "cell_type": "code",
   "execution_count": 1,
   "id": "8b276cee-2a67-481f-bb5a-6d40fe28a97c",
   "metadata": {},
   "outputs": [
    {
     "data": {
      "text/plain": [
       "17"
      ]
     },
     "execution_count": 1,
     "metadata": {},
     "output_type": "execute_result"
    }
   ],
   "source": [
    "(3*4)+5\n",
    "# This a simple arithmetic expression to mutiply then add integers"
   ]
  },
  {
   "cell_type": "code",
   "execution_count": 5,
   "id": "2a0a5ebf-959e-4a76-9153-84d86635e46e",
   "metadata": {},
   "outputs": [
    {
     "name": "stdout",
     "output_type": "stream",
     "text": [
      "3.3333333333333335\n"
     ]
    }
   ],
   "source": [
    "minutes=200\n",
    "hours =minutes/60\n",
    "print(hours)\n",
    "#This will convert 200 minutes to hours by diving by 60"
   ]
  },
  {
   "cell_type": "markdown",
   "id": "705b5340-c29d-420e-ba56-0f2ed0ad5366",
   "metadata": {},
   "source": [
    "## Author: <br> Szymon Janur"
   ]
  },
  {
   "cell_type": "code",
   "execution_count": null,
   "id": "7c1b16c2-e51a-489a-85f0-71c7d92fe3bf",
   "metadata": {},
   "outputs": [],
   "source": []
  }
 ],
 "metadata": {
  "kernelspec": {
   "display_name": "Python",
   "language": "python",
   "name": "conda-env-python-py"
  },
  "language_info": {
   "codemirror_mode": {
    "name": "ipython",
    "version": 3
   },
   "file_extension": ".py",
   "mimetype": "text/x-python",
   "name": "python",
   "nbconvert_exporter": "python",
   "pygments_lexer": "ipython3",
   "version": "3.7.12"
  }
 },
 "nbformat": 4,
 "nbformat_minor": 5
}
